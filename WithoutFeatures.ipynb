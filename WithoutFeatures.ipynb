{
  "nbformat": 4,
  "nbformat_minor": 0,
  "metadata": {
    "colab": {
      "name": "WithoutFeatures.ipynb",
      "provenance": []
    },
    "kernelspec": {
      "name": "python3",
      "display_name": "Python 3"
    },
    "language_info": {
      "name": "python"
    }
  },
  "cells": [
    {
      "cell_type": "code",
      "execution_count": 55,
      "metadata": {
        "id": "U2rDjJpehoUW"
      },
      "outputs": [],
      "source": [
        "import pandas as pd\n",
        "import numpy as np\n",
        "from sklearn.preprocessing import LabelEncoder\n",
        "from sklearn.model_selection import train_test_split\n",
        "from sklearn.linear_model import LogisticRegression\n",
        "from sklearn.ensemble import RandomForestRegressor"
      ]
    },
    {
      "cell_type": "code",
      "source": [
        "df = pd.read_csv('/content/RGrocery_df.csv')\n",
        "df.columns"
      ],
      "metadata": {
        "colab": {
          "base_uri": "https://localhost:8080/"
        },
        "id": "3HuZms_VhyO4",
        "outputId": "edf51589-deb3-44e1-f119-a98a1644faff"
      },
      "execution_count": 56,
      "outputs": [
        {
          "output_type": "execute_result",
          "data": {
            "text/plain": [
              "Index(['Unnamed: 0', 'DOC_ID', 'LABEL', 'RATING', 'VERIFIED_PURCHASE',\n",
              "       'PRODUCT_CATEGORY', 'PRODUCT_ID', 'PRODUCT_TITLE', 'REVIEW_TITLE',\n",
              "       'REVIEW_TEXT'],\n",
              "      dtype='object')"
            ]
          },
          "metadata": {},
          "execution_count": 56
        }
      ]
    },
    {
      "cell_type": "code",
      "source": [
        "df.drop(['Unnamed: 0','PRODUCT_ID','DOC_ID','REVIEW_TITLE','PRODUCT_TITLE'],axis=1,inplace = True)"
      ],
      "metadata": {
        "id": "wPvSHsKeh3dk"
      },
      "execution_count": 57,
      "outputs": []
    },
    {
      "cell_type": "code",
      "source": [
        "df.info()"
      ],
      "metadata": {
        "colab": {
          "base_uri": "https://localhost:8080/"
        },
        "id": "PSocHZDNolY9",
        "outputId": "51eb4b0e-1070-4c4e-c058-e64874fb4a13"
      },
      "execution_count": 58,
      "outputs": [
        {
          "output_type": "stream",
          "name": "stdout",
          "text": [
            "<class 'pandas.core.frame.DataFrame'>\n",
            "RangeIndex: 700 entries, 0 to 699\n",
            "Data columns (total 5 columns):\n",
            " #   Column             Non-Null Count  Dtype \n",
            "---  ------             --------------  ----- \n",
            " 0   LABEL              700 non-null    object\n",
            " 1   RATING             700 non-null    int64 \n",
            " 2   VERIFIED_PURCHASE  700 non-null    object\n",
            " 3   PRODUCT_CATEGORY   700 non-null    object\n",
            " 4   REVIEW_TEXT        700 non-null    object\n",
            "dtypes: int64(1), object(4)\n",
            "memory usage: 27.5+ KB\n"
          ]
        }
      ]
    },
    {
      "cell_type": "code",
      "source": [
        "obj_cols = [col for col in df.columns if df[col].dtype=='object']"
      ],
      "metadata": {
        "id": "5KUaRHTkiKKZ"
      },
      "execution_count": 59,
      "outputs": []
    },
    {
      "cell_type": "code",
      "source": [
        "obj_cols"
      ],
      "metadata": {
        "colab": {
          "base_uri": "https://localhost:8080/"
        },
        "id": "SmmSN5msjVHS",
        "outputId": "333c7630-3efd-4f72-e3a1-eb2cac9fad79"
      },
      "execution_count": 60,
      "outputs": [
        {
          "output_type": "execute_result",
          "data": {
            "text/plain": [
              "['LABEL', 'VERIFIED_PURCHASE', 'PRODUCT_CATEGORY', 'REVIEW_TEXT']"
            ]
          },
          "metadata": {},
          "execution_count": 60
        }
      ]
    },
    {
      "cell_type": "code",
      "source": [
        "df"
      ],
      "metadata": {
        "colab": {
          "base_uri": "https://localhost:8080/",
          "height": 424
        },
        "id": "mCRuulHEpXrW",
        "outputId": "13d7839a-50ad-4a7d-981b-ee12628b984d"
      },
      "execution_count": 61,
      "outputs": [
        {
          "output_type": "execute_result",
          "data": {
            "text/plain": [
              "          LABEL  RATING VERIFIED_PURCHASE PRODUCT_CATEGORY  \\\n",
              "0    __label1__       1                 N          Grocery   \n",
              "1    __label1__       4                 N          Grocery   \n",
              "2    __label1__       4                 N          Grocery   \n",
              "3    __label1__       4                 N          Grocery   \n",
              "4    __label1__       4                 N          Grocery   \n",
              "..          ...     ...               ...              ...   \n",
              "695  __label2__       5                 Y          Grocery   \n",
              "696  __label2__       5                 Y          Grocery   \n",
              "697  __label2__       5                 Y          Grocery   \n",
              "698  __label2__       5                 Y          Grocery   \n",
              "699  __label2__       5                 N          Grocery   \n",
              "\n",
              "                                           REVIEW_TEXT  \n",
              "0    I'm not really sold on the flavor and texture ...  \n",
              "1    I have been taking honey from when i was a chi...  \n",
              "2    These are the lowest calorie bar with the high...  \n",
              "3    Ok, no one tell my son this....but, I actually...  \n",
              "4    Ahhh!! Im so happy to have found just blue jol...  \n",
              "..                                                 ...  \n",
              "695  this stuff is amazing! I was worried that it w...  \n",
              "696  I've tried many of the different coffees that ...  \n",
              "697  It appears well made. I did need to leave them...  \n",
              "698  I enjoyed this snack. I wish it had been a lit...  \n",
              "699  These English Muffins are hard to find in stor...  \n",
              "\n",
              "[700 rows x 5 columns]"
            ],
            "text/html": [
              "\n",
              "  <div id=\"df-de63028b-dfbb-411d-857c-4d2197c5a1a0\">\n",
              "    <div class=\"colab-df-container\">\n",
              "      <div>\n",
              "<style scoped>\n",
              "    .dataframe tbody tr th:only-of-type {\n",
              "        vertical-align: middle;\n",
              "    }\n",
              "\n",
              "    .dataframe tbody tr th {\n",
              "        vertical-align: top;\n",
              "    }\n",
              "\n",
              "    .dataframe thead th {\n",
              "        text-align: right;\n",
              "    }\n",
              "</style>\n",
              "<table border=\"1\" class=\"dataframe\">\n",
              "  <thead>\n",
              "    <tr style=\"text-align: right;\">\n",
              "      <th></th>\n",
              "      <th>LABEL</th>\n",
              "      <th>RATING</th>\n",
              "      <th>VERIFIED_PURCHASE</th>\n",
              "      <th>PRODUCT_CATEGORY</th>\n",
              "      <th>REVIEW_TEXT</th>\n",
              "    </tr>\n",
              "  </thead>\n",
              "  <tbody>\n",
              "    <tr>\n",
              "      <th>0</th>\n",
              "      <td>__label1__</td>\n",
              "      <td>1</td>\n",
              "      <td>N</td>\n",
              "      <td>Grocery</td>\n",
              "      <td>I'm not really sold on the flavor and texture ...</td>\n",
              "    </tr>\n",
              "    <tr>\n",
              "      <th>1</th>\n",
              "      <td>__label1__</td>\n",
              "      <td>4</td>\n",
              "      <td>N</td>\n",
              "      <td>Grocery</td>\n",
              "      <td>I have been taking honey from when i was a chi...</td>\n",
              "    </tr>\n",
              "    <tr>\n",
              "      <th>2</th>\n",
              "      <td>__label1__</td>\n",
              "      <td>4</td>\n",
              "      <td>N</td>\n",
              "      <td>Grocery</td>\n",
              "      <td>These are the lowest calorie bar with the high...</td>\n",
              "    </tr>\n",
              "    <tr>\n",
              "      <th>3</th>\n",
              "      <td>__label1__</td>\n",
              "      <td>4</td>\n",
              "      <td>N</td>\n",
              "      <td>Grocery</td>\n",
              "      <td>Ok, no one tell my son this....but, I actually...</td>\n",
              "    </tr>\n",
              "    <tr>\n",
              "      <th>4</th>\n",
              "      <td>__label1__</td>\n",
              "      <td>4</td>\n",
              "      <td>N</td>\n",
              "      <td>Grocery</td>\n",
              "      <td>Ahhh!! Im so happy to have found just blue jol...</td>\n",
              "    </tr>\n",
              "    <tr>\n",
              "      <th>...</th>\n",
              "      <td>...</td>\n",
              "      <td>...</td>\n",
              "      <td>...</td>\n",
              "      <td>...</td>\n",
              "      <td>...</td>\n",
              "    </tr>\n",
              "    <tr>\n",
              "      <th>695</th>\n",
              "      <td>__label2__</td>\n",
              "      <td>5</td>\n",
              "      <td>Y</td>\n",
              "      <td>Grocery</td>\n",
              "      <td>this stuff is amazing! I was worried that it w...</td>\n",
              "    </tr>\n",
              "    <tr>\n",
              "      <th>696</th>\n",
              "      <td>__label2__</td>\n",
              "      <td>5</td>\n",
              "      <td>Y</td>\n",
              "      <td>Grocery</td>\n",
              "      <td>I've tried many of the different coffees that ...</td>\n",
              "    </tr>\n",
              "    <tr>\n",
              "      <th>697</th>\n",
              "      <td>__label2__</td>\n",
              "      <td>5</td>\n",
              "      <td>Y</td>\n",
              "      <td>Grocery</td>\n",
              "      <td>It appears well made. I did need to leave them...</td>\n",
              "    </tr>\n",
              "    <tr>\n",
              "      <th>698</th>\n",
              "      <td>__label2__</td>\n",
              "      <td>5</td>\n",
              "      <td>Y</td>\n",
              "      <td>Grocery</td>\n",
              "      <td>I enjoyed this snack. I wish it had been a lit...</td>\n",
              "    </tr>\n",
              "    <tr>\n",
              "      <th>699</th>\n",
              "      <td>__label2__</td>\n",
              "      <td>5</td>\n",
              "      <td>N</td>\n",
              "      <td>Grocery</td>\n",
              "      <td>These English Muffins are hard to find in stor...</td>\n",
              "    </tr>\n",
              "  </tbody>\n",
              "</table>\n",
              "<p>700 rows × 5 columns</p>\n",
              "</div>\n",
              "      <button class=\"colab-df-convert\" onclick=\"convertToInteractive('df-de63028b-dfbb-411d-857c-4d2197c5a1a0')\"\n",
              "              title=\"Convert this dataframe to an interactive table.\"\n",
              "              style=\"display:none;\">\n",
              "        \n",
              "  <svg xmlns=\"http://www.w3.org/2000/svg\" height=\"24px\"viewBox=\"0 0 24 24\"\n",
              "       width=\"24px\">\n",
              "    <path d=\"M0 0h24v24H0V0z\" fill=\"none\"/>\n",
              "    <path d=\"M18.56 5.44l.94 2.06.94-2.06 2.06-.94-2.06-.94-.94-2.06-.94 2.06-2.06.94zm-11 1L8.5 8.5l.94-2.06 2.06-.94-2.06-.94L8.5 2.5l-.94 2.06-2.06.94zm10 10l.94 2.06.94-2.06 2.06-.94-2.06-.94-.94-2.06-.94 2.06-2.06.94z\"/><path d=\"M17.41 7.96l-1.37-1.37c-.4-.4-.92-.59-1.43-.59-.52 0-1.04.2-1.43.59L10.3 9.45l-7.72 7.72c-.78.78-.78 2.05 0 2.83L4 21.41c.39.39.9.59 1.41.59.51 0 1.02-.2 1.41-.59l7.78-7.78 2.81-2.81c.8-.78.8-2.07 0-2.86zM5.41 20L4 18.59l7.72-7.72 1.47 1.35L5.41 20z\"/>\n",
              "  </svg>\n",
              "      </button>\n",
              "      \n",
              "  <style>\n",
              "    .colab-df-container {\n",
              "      display:flex;\n",
              "      flex-wrap:wrap;\n",
              "      gap: 12px;\n",
              "    }\n",
              "\n",
              "    .colab-df-convert {\n",
              "      background-color: #E8F0FE;\n",
              "      border: none;\n",
              "      border-radius: 50%;\n",
              "      cursor: pointer;\n",
              "      display: none;\n",
              "      fill: #1967D2;\n",
              "      height: 32px;\n",
              "      padding: 0 0 0 0;\n",
              "      width: 32px;\n",
              "    }\n",
              "\n",
              "    .colab-df-convert:hover {\n",
              "      background-color: #E2EBFA;\n",
              "      box-shadow: 0px 1px 2px rgba(60, 64, 67, 0.3), 0px 1px 3px 1px rgba(60, 64, 67, 0.15);\n",
              "      fill: #174EA6;\n",
              "    }\n",
              "\n",
              "    [theme=dark] .colab-df-convert {\n",
              "      background-color: #3B4455;\n",
              "      fill: #D2E3FC;\n",
              "    }\n",
              "\n",
              "    [theme=dark] .colab-df-convert:hover {\n",
              "      background-color: #434B5C;\n",
              "      box-shadow: 0px 1px 3px 1px rgba(0, 0, 0, 0.15);\n",
              "      filter: drop-shadow(0px 1px 2px rgba(0, 0, 0, 0.3));\n",
              "      fill: #FFFFFF;\n",
              "    }\n",
              "  </style>\n",
              "\n",
              "      <script>\n",
              "        const buttonEl =\n",
              "          document.querySelector('#df-de63028b-dfbb-411d-857c-4d2197c5a1a0 button.colab-df-convert');\n",
              "        buttonEl.style.display =\n",
              "          google.colab.kernel.accessAllowed ? 'block' : 'none';\n",
              "\n",
              "        async function convertToInteractive(key) {\n",
              "          const element = document.querySelector('#df-de63028b-dfbb-411d-857c-4d2197c5a1a0');\n",
              "          const dataTable =\n",
              "            await google.colab.kernel.invokeFunction('convertToInteractive',\n",
              "                                                     [key], {});\n",
              "          if (!dataTable) return;\n",
              "\n",
              "          const docLinkHtml = 'Like what you see? Visit the ' +\n",
              "            '<a target=\"_blank\" href=https://colab.research.google.com/notebooks/data_table.ipynb>data table notebook</a>'\n",
              "            + ' to learn more about interactive tables.';\n",
              "          element.innerHTML = '';\n",
              "          dataTable['output_type'] = 'display_data';\n",
              "          await google.colab.output.renderOutput(dataTable, element);\n",
              "          const docLink = document.createElement('div');\n",
              "          docLink.innerHTML = docLinkHtml;\n",
              "          element.appendChild(docLink);\n",
              "        }\n",
              "      </script>\n",
              "    </div>\n",
              "  </div>\n",
              "  "
            ]
          },
          "metadata": {},
          "execution_count": 61
        }
      ]
    },
    {
      "cell_type": "code",
      "source": [
        "for col in obj_cols:\n",
        "  le = LabelEncoder()\n",
        "  le.fit(df[col])\n",
        "  df[col] = le.transform(df[col])"
      ],
      "metadata": {
        "id": "j1G3HC2Emr1X"
      },
      "execution_count": 62,
      "outputs": []
    },
    {
      "cell_type": "code",
      "source": [
        "df.dropna(inplace=True)"
      ],
      "metadata": {
        "id": "7b0gtjXdpFU3"
      },
      "execution_count": 63,
      "outputs": []
    },
    {
      "cell_type": "code",
      "source": [
        "X = df.drop('LABEL',axis=1)\n",
        "Y = df['LABEL']"
      ],
      "metadata": {
        "id": "IVgWL7J3pFoP"
      },
      "execution_count": 64,
      "outputs": []
    },
    {
      "cell_type": "code",
      "source": [
        "X_train, X_test, Y_train, Y_test = train_test_split(X, Y, test_size=0.2, random_state=20)"
      ],
      "metadata": {
        "id": "zOAS3lPUpwoV"
      },
      "execution_count": 65,
      "outputs": []
    },
    {
      "cell_type": "code",
      "source": [
        "regression_model = LogisticRegression()\n",
        "regression_model.fit(X_train,Y_train)\n",
        "regression_model.score(X_test, Y_test)"
      ],
      "metadata": {
        "colab": {
          "base_uri": "https://localhost:8080/"
        },
        "id": "n3Qvk-EFqg9K",
        "outputId": "2baa9040-3a45-4a42-9f12-70dec914bfa8"
      },
      "execution_count": 66,
      "outputs": [
        {
          "output_type": "execute_result",
          "data": {
            "text/plain": [
              "0.7642857142857142"
            ]
          },
          "metadata": {},
          "execution_count": 66
        }
      ]
    },
    {
      "cell_type": "code",
      "source": [
        "forest_model = RandomForestRegressor()\n",
        "forest_model.fit(X_train, Y_train)\n",
        "forest_model.score(X_train, Y_train)\n"
      ],
      "metadata": {
        "colab": {
          "base_uri": "https://localhost:8080/"
        },
        "id": "e4ELVHsoq5m5",
        "outputId": "505a6056-30a4-41d4-b625-30c3fb237ee7"
      },
      "execution_count": 67,
      "outputs": [
        {
          "output_type": "execute_result",
          "data": {
            "text/plain": [
              "0.8924773712944538"
            ]
          },
          "metadata": {},
          "execution_count": 67
        }
      ]
    },
    {
      "cell_type": "code",
      "source": [
        "from xgboost import XGBClassifier\n",
        "\n",
        "xgbcl = XGBClassifier()\n",
        "xgbcl.fit(X_train, Y_train)\n",
        "xgbcl.score(X_train, Y_train)"
      ],
      "metadata": {
        "id": "ADrFvDpsrexk",
        "colab": {
          "base_uri": "https://localhost:8080/"
        },
        "outputId": "5ebf956b-e0aa-4811-e01f-a960a114c8de"
      },
      "execution_count": 68,
      "outputs": [
        {
          "output_type": "execute_result",
          "data": {
            "text/plain": [
              "0.825"
            ]
          },
          "metadata": {},
          "execution_count": 68
        }
      ]
    },
    {
      "cell_type": "code",
      "source": [
        ""
      ],
      "metadata": {
        "id": "lelP4E3ZzUKF"
      },
      "execution_count": 68,
      "outputs": []
    }
  ]
}